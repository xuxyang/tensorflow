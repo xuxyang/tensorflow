{
 "cells": [
  {
   "cell_type": "markdown",
   "metadata": {
    "colab_type": "text",
    "deletable": true,
    "editable": true,
    "id": "kR-4eNdK6lYS"
   },
   "source": [
    "Deep Learning\n",
    "=============\n",
    "\n",
    "Assignment 3\n",
    "------------\n",
    "\n",
    "Previously in `2_fullyconnected.ipynb`, you trained a logistic regression and a neural network model.\n",
    "\n",
    "The goal of this assignment is to explore regularization techniques."
   ]
  },
  {
   "cell_type": "code",
   "execution_count": 1,
   "metadata": {
    "cellView": "both",
    "colab": {
     "autoexec": {
      "startup": false,
      "wait_interval": 0
     }
    },
    "colab_type": "code",
    "collapsed": true,
    "deletable": true,
    "editable": true,
    "id": "JLpLa8Jt7Vu4"
   },
   "outputs": [],
   "source": [
    "# These are all the modules we'll be using later. Make sure you can import them\n",
    "# before proceeding further.\n",
    "from __future__ import print_function\n",
    "import numpy as np\n",
    "import tensorflow as tf\n",
    "from six.moves import cPickle as pickle"
   ]
  },
  {
   "cell_type": "markdown",
   "metadata": {
    "colab_type": "text",
    "deletable": true,
    "editable": true,
    "id": "1HrCK6e17WzV"
   },
   "source": [
    "First reload the data we generated in `1_notmnist.ipynb`."
   ]
  },
  {
   "cell_type": "code",
   "execution_count": 2,
   "metadata": {
    "cellView": "both",
    "colab": {
     "autoexec": {
      "startup": false,
      "wait_interval": 0
     },
     "output_extras": [
      {
       "item_id": 1
      }
     ]
    },
    "colab_type": "code",
    "collapsed": false,
    "deletable": true,
    "editable": true,
    "executionInfo": {
     "elapsed": 11777,
     "status": "ok",
     "timestamp": 1449849322348,
     "user": {
      "color": "",
      "displayName": "",
      "isAnonymous": false,
      "isMe": true,
      "permissionId": "",
      "photoUrl": "",
      "sessionId": "0",
      "userId": ""
     },
     "user_tz": 480
    },
    "id": "y3-cj1bpmuxc",
    "outputId": "e03576f1-ebbe-4838-c388-f1777bcc9873"
   },
   "outputs": [
    {
     "name": "stdout",
     "output_type": "stream",
     "text": [
      "Training set (200000, 28, 28) (200000,)\n",
      "Validation set (10000, 28, 28) (10000,)\n",
      "Test set (10000, 28, 28) (10000,)\n"
     ]
    }
   ],
   "source": [
    "pickle_file = 'notMNIST.pickle'\n",
    "\n",
    "with open(pickle_file, 'rb') as f:\n",
    "  save = pickle.load(f)\n",
    "  train_dataset = save['train_dataset']\n",
    "  train_labels = save['train_labels']\n",
    "  valid_dataset = save['valid_dataset']\n",
    "  valid_labels = save['valid_labels']\n",
    "  test_dataset = save['test_dataset']\n",
    "  test_labels = save['test_labels']\n",
    "  del save  # hint to help gc free up memory\n",
    "  print('Training set', train_dataset.shape, train_labels.shape)\n",
    "  print('Validation set', valid_dataset.shape, valid_labels.shape)\n",
    "  print('Test set', test_dataset.shape, test_labels.shape)"
   ]
  },
  {
   "cell_type": "markdown",
   "metadata": {
    "colab_type": "text",
    "deletable": true,
    "editable": true,
    "id": "L7aHrm6nGDMB"
   },
   "source": [
    "Reformat into a shape that's more adapted to the models we're going to train:\n",
    "- data as a flat matrix,\n",
    "- labels as float 1-hot encodings."
   ]
  },
  {
   "cell_type": "code",
   "execution_count": 3,
   "metadata": {
    "cellView": "both",
    "colab": {
     "autoexec": {
      "startup": false,
      "wait_interval": 0
     },
     "output_extras": [
      {
       "item_id": 1
      }
     ]
    },
    "colab_type": "code",
    "collapsed": false,
    "deletable": true,
    "editable": true,
    "executionInfo": {
     "elapsed": 11728,
     "status": "ok",
     "timestamp": 1449849322356,
     "user": {
      "color": "",
      "displayName": "",
      "isAnonymous": false,
      "isMe": true,
      "permissionId": "",
      "photoUrl": "",
      "sessionId": "0",
      "userId": ""
     },
     "user_tz": 480
    },
    "id": "IRSyYiIIGIzS",
    "outputId": "3f8996ee-3574-4f44-c953-5c8a04636582"
   },
   "outputs": [
    {
     "name": "stdout",
     "output_type": "stream",
     "text": [
      "Training set (200000, 784) (200000, 10)\n",
      "Validation set (10000, 784) (10000, 10)\n",
      "Test set (10000, 784) (10000, 10)\n"
     ]
    }
   ],
   "source": [
    "image_size = 28\n",
    "num_labels = 10\n",
    "\n",
    "def reformat(dataset, labels):\n",
    "  dataset = dataset.reshape((-1, image_size * image_size)).astype(np.float32)\n",
    "  # Map 1 to [0.0, 1.0, 0.0 ...], 2 to [0.0, 0.0, 1.0 ...]\n",
    "  labels = (np.arange(num_labels) == labels[:,None]).astype(np.float32)\n",
    "  return dataset, labels\n",
    "train_dataset, train_labels = reformat(train_dataset, train_labels)\n",
    "valid_dataset, valid_labels = reformat(valid_dataset, valid_labels)\n",
    "test_dataset, test_labels = reformat(test_dataset, test_labels)\n",
    "print('Training set', train_dataset.shape, train_labels.shape)\n",
    "print('Validation set', valid_dataset.shape, valid_labels.shape)\n",
    "print('Test set', test_dataset.shape, test_labels.shape)"
   ]
  },
  {
   "cell_type": "code",
   "execution_count": 4,
   "metadata": {
    "cellView": "both",
    "colab": {
     "autoexec": {
      "startup": false,
      "wait_interval": 0
     }
    },
    "colab_type": "code",
    "collapsed": true,
    "deletable": true,
    "editable": true,
    "id": "RajPLaL_ZW6w"
   },
   "outputs": [],
   "source": [
    "def accuracy(predictions, labels):\n",
    "  return (100.0 * np.sum(np.argmax(predictions, 1) == np.argmax(labels, 1))\n",
    "          / predictions.shape[0])"
   ]
  },
  {
   "cell_type": "markdown",
   "metadata": {
    "colab_type": "text",
    "deletable": true,
    "editable": true,
    "id": "sgLbUAQ1CW-1"
   },
   "source": [
    "---\n",
    "Problem 1\n",
    "---------\n",
    "\n",
    "Introduce and tune L2 regularization for both logistic and neural network models. Remember that L2 amounts to adding a penalty on the norm of the weights to the loss. In TensorFlow, you can compute the L2 loss for a tensor `t` using `nn.l2_loss(t)`. The right amount of regularization should improve your validation / test accuracy.\n",
    "\n",
    "---"
   ]
  },
  {
   "cell_type": "markdown",
   "metadata": {
    "deletable": true,
    "editable": true
   },
   "source": [
    "### L2 regularization for logistic model"
   ]
  },
  {
   "cell_type": "code",
   "execution_count": 5,
   "metadata": {
    "collapsed": false,
    "deletable": true,
    "editable": true
   },
   "outputs": [],
   "source": [
    "batch_size = 128\n",
    "l2_loss_param = 0.001\n",
    "\n",
    "\n",
    "graph = tf.Graph()\n",
    "with graph.as_default():\n",
    "\n",
    "  # Input data. For the training data, we use a placeholder that will be fed\n",
    "  # at run time with a training minibatch.\n",
    "  tf_train_dataset = tf.placeholder(tf.float32,\n",
    "                                    shape=(batch_size, image_size * image_size))\n",
    "  tf_train_labels = tf.placeholder(tf.float32, shape=(batch_size, num_labels))\n",
    "  tf_valid_dataset = tf.constant(valid_dataset)\n",
    "  tf_test_dataset = tf.constant(test_dataset)\n",
    "\n",
    "  # Variables.\n",
    "  weights = tf.Variable(\n",
    "    tf.truncated_normal([image_size * image_size, num_labels]))\n",
    "  biases = tf.Variable(tf.zeros([num_labels]))\n",
    "\n",
    "  # Training computation.\n",
    "  logits = tf.matmul(tf_train_dataset, weights) + biases\n",
    "  loss = tf.reduce_mean(\n",
    "    tf.nn.softmax_cross_entropy_with_logits(labels=tf_train_labels, logits=logits)) + l2_loss_param * tf.nn.l2_loss(weights)\n",
    "\n",
    "  # Optimizer.\n",
    "  optimizer = tf.train.GradientDescentOptimizer(0.5).minimize(loss)\n",
    "\n",
    "  # Predictions for the training, validation, and test data.\n",
    "  train_prediction = tf.nn.softmax(logits)\n",
    "  valid_prediction = tf.nn.softmax(\n",
    "    tf.matmul(tf_valid_dataset, weights) + biases)\n",
    "  test_prediction = tf.nn.softmax(tf.matmul(tf_test_dataset, weights) + biases)\n"
   ]
  },
  {
   "cell_type": "code",
   "execution_count": 6,
   "metadata": {
    "collapsed": false,
    "deletable": true,
    "editable": true
   },
   "outputs": [
    {
     "name": "stdout",
     "output_type": "stream",
     "text": [
      "Initialized\n",
      "Minibatch loss at step 0: 20.165991\n",
      "Minibatch accuracy: 11.7%\n",
      "Validation accuracy: 13.5%\n",
      "Minibatch loss at step 500: 3.067460\n",
      "Minibatch accuracy: 71.9%\n",
      "Validation accuracy: 76.8%\n",
      "Minibatch loss at step 1000: 1.668937\n",
      "Minibatch accuracy: 81.2%\n",
      "Validation accuracy: 78.7%\n",
      "Minibatch loss at step 1500: 1.289947\n",
      "Minibatch accuracy: 78.9%\n",
      "Validation accuracy: 77.8%\n",
      "Minibatch loss at step 2000: 1.022923\n",
      "Minibatch accuracy: 79.7%\n",
      "Validation accuracy: 81.4%\n",
      "Minibatch loss at step 2500: 0.782453\n",
      "Minibatch accuracy: 83.6%\n",
      "Validation accuracy: 80.4%\n",
      "Minibatch loss at step 3000: 0.735727\n",
      "Minibatch accuracy: 83.6%\n",
      "Validation accuracy: 82.1%\n",
      "Test accuracy: 89.2%\n"
     ]
    }
   ],
   "source": [
    "num_steps = 3001\n",
    "print_interval = 500\n",
    "\n",
    "def run_graph(steps, batch_size, output_interval):\n",
    "    with tf.Session(graph=graph) as session:\n",
    "        tf.global_variables_initializer().run()\n",
    "        print(\"Initialized\")\n",
    "        for step in range(steps):\n",
    "            # Pick an offset within the training data, which has been randomized.\n",
    "            # Note: we could use better randomization across epochs.\n",
    "            offset = (step * batch_size) % (train_labels.shape[0] - batch_size)\n",
    "            # Generate a minibatch.\n",
    "            batch_data = train_dataset[offset:(offset + batch_size), :]\n",
    "            batch_labels = train_labels[offset:(offset + batch_size), :]\n",
    "            # Prepare a dictionary telling the session where to feed the minibatch.\n",
    "            # The key of the dictionary is the placeholder node of the graph to be fed,\n",
    "            # and the value is the numpy array to feed to it.\n",
    "            feed_dict = {tf_train_dataset : batch_data, tf_train_labels : batch_labels}\n",
    "            _, l, predictions = session.run(\n",
    "              [optimizer, loss, train_prediction], feed_dict=feed_dict)\n",
    "            if (step % output_interval == 0 or step == steps - 1):\n",
    "              print(\"Minibatch loss at step %d: %f\" % (step, l))\n",
    "              print(\"Minibatch accuracy: %.1f%%\" % accuracy(predictions, batch_labels))\n",
    "              print(\"Validation accuracy: %.1f%%\" % accuracy(\n",
    "                valid_prediction.eval(), valid_labels))\n",
    "        print(\"Test accuracy: %.1f%%\" % accuracy(test_prediction.eval(), test_labels))\n",
    "        \n",
    "run_graph(num_steps, batch_size, print_interval)"
   ]
  },
  {
   "cell_type": "markdown",
   "metadata": {
    "deletable": true,
    "editable": true
   },
   "source": [
    "### L2 regularization for neural network model"
   ]
  },
  {
   "cell_type": "code",
   "execution_count": 7,
   "metadata": {
    "collapsed": false,
    "deletable": true,
    "editable": true
   },
   "outputs": [
    {
     "name": "stdout",
     "output_type": "stream",
     "text": [
      "Initialized\n",
      "Minibatch loss at step 0: 719.785706\n",
      "Minibatch accuracy: 7.8%\n",
      "Validation accuracy: 38.0%\n",
      "Minibatch loss at step 500: 199.521255\n",
      "Minibatch accuracy: 81.2%\n",
      "Validation accuracy: 81.3%\n",
      "Minibatch loss at step 1000: 117.743958\n",
      "Minibatch accuracy: 81.2%\n",
      "Validation accuracy: 81.2%\n",
      "Minibatch loss at step 1500: 68.589951\n",
      "Minibatch accuracy: 85.2%\n",
      "Validation accuracy: 82.3%\n",
      "Minibatch loss at step 2000: 41.721336\n",
      "Minibatch accuracy: 82.0%\n",
      "Validation accuracy: 84.6%\n",
      "Minibatch loss at step 2500: 25.208063\n",
      "Minibatch accuracy: 86.7%\n",
      "Validation accuracy: 85.8%\n",
      "Minibatch loss at step 3000: 15.482451\n",
      "Minibatch accuracy: 86.7%\n",
      "Validation accuracy: 87.1%\n",
      "Test accuracy: 93.0%\n"
     ]
    }
   ],
   "source": [
    "hidden_layer_size = 1024\n",
    "\n",
    "\n",
    "graph = tf.Graph()\n",
    "with graph.as_default():\n",
    "\n",
    "    # Input data. For the training data, we use a placeholder that will be fed\n",
    "  # at run time with a training minibatch.\n",
    "  tf_train_dataset = tf.placeholder(tf.float32,\n",
    "                                    shape=(batch_size, image_size * image_size))\n",
    "  tf_train_labels = tf.placeholder(tf.float32, shape=(batch_size, num_labels))\n",
    "  tf_valid_dataset = tf.constant(valid_dataset)\n",
    "  tf_test_dataset = tf.constant(test_dataset)\n",
    "\n",
    "  # Variables.\n",
    "  weights_first = tf.Variable(\n",
    "    tf.truncated_normal([image_size * image_size, hidden_layer_size]))\n",
    "  biases_first = tf.Variable(tf.zeros([hidden_layer_size]))\n",
    "\n",
    "  weights_second = tf.Variable(\n",
    "    tf.truncated_normal([hidden_layer_size, num_labels]))\n",
    "  biases_second = tf.Variable(tf.zeros([num_labels]))\n",
    "\n",
    "  # Training computation.\n",
    "  logits_first = tf.matmul(tf_train_dataset, weights_first) + biases_first\n",
    "  relu_output = tf.nn.relu(logits_first)\n",
    "  logits_second = tf.matmul(relu_output, weights_second) + biases_second\n",
    "  loss = (tf.reduce_mean(tf.nn.softmax_cross_entropy_with_logits(labels=tf_train_labels, logits=logits_second))\n",
    "         + l2_loss_param * tf.nn.l2_loss(weights_first)\n",
    "         + l2_loss_param * tf.nn.l2_loss(weights_second))\n",
    "\n",
    "  # Optimizer.\n",
    "  optimizer = tf.train.GradientDescentOptimizer(0.5).minimize(loss)\n",
    "\n",
    "  # Predictions for the training, validation, and test data.\n",
    "  train_prediction = tf.nn.softmax(logits_second)\n",
    "  valid_prediction = tf.nn.softmax(\n",
    "      tf.matmul(\n",
    "          tf.nn.relu(\n",
    "              tf.matmul(tf_valid_dataset, weights_first) + biases_first), \n",
    "          weights_second)\n",
    "      + biases_second)\n",
    "\n",
    "  test_prediction = tf.nn.softmax(\n",
    "      tf.matmul(\n",
    "          tf.nn.relu(\n",
    "              tf.matmul(tf_test_dataset, weights_first) + biases_first), \n",
    "          weights_second)\n",
    "      + biases_second)\n",
    "    \n",
    "run_graph(num_steps, batch_size, print_interval)"
   ]
  },
  {
   "cell_type": "markdown",
   "metadata": {
    "colab_type": "text",
    "deletable": true,
    "editable": true,
    "id": "na8xX2yHZzNF"
   },
   "source": [
    "---\n",
    "Problem 2\n",
    "---------\n",
    "Let's demonstrate an extreme case of overfitting. Restrict your training data to just a few batches. What happens?\n",
    "\n",
    "---"
   ]
  },
  {
   "cell_type": "markdown",
   "metadata": {
    "deletable": true,
    "editable": true
   },
   "source": [
    "### Overfitting: logistic regression, no L2 regularization"
   ]
  },
  {
   "cell_type": "code",
   "execution_count": 8,
   "metadata": {
    "collapsed": false,
    "deletable": true,
    "editable": true
   },
   "outputs": [
    {
     "name": "stdout",
     "output_type": "stream",
     "text": [
      "Initialized\n",
      "Minibatch loss at step 0: 16.157982\n",
      "Minibatch accuracy: 12.5%\n",
      "Validation accuracy: 10.9%\n",
      "Minibatch loss at step 500: 0.053704\n",
      "Minibatch accuracy: 100.0%\n",
      "Validation accuracy: 66.6%\n",
      "Minibatch loss at step 1000: 0.013677\n",
      "Minibatch accuracy: 100.0%\n",
      "Validation accuracy: 68.1%\n",
      "Minibatch loss at step 1500: 0.040238\n",
      "Minibatch accuracy: 99.2%\n",
      "Validation accuracy: 68.4%\n",
      "Minibatch loss at step 2000: 0.031885\n",
      "Minibatch accuracy: 99.2%\n",
      "Validation accuracy: 68.8%\n",
      "Minibatch loss at step 2500: 0.027655\n",
      "Minibatch accuracy: 99.2%\n",
      "Validation accuracy: 69.0%\n",
      "Minibatch loss at step 3000: 0.005132\n",
      "Minibatch accuracy: 100.0%\n",
      "Validation accuracy: 69.5%\n",
      "Test accuracy: 75.9%\n"
     ]
    }
   ],
   "source": [
    "graph = tf.Graph()\n",
    "with graph.as_default():\n",
    "\n",
    "  # Input data. For the training data, we use a placeholder that will be fed\n",
    "  # at run time with a training minibatch.\n",
    "  tf_train_dataset = tf.placeholder(tf.float32,\n",
    "                                    shape=(batch_size, image_size * image_size))\n",
    "  tf_train_labels = tf.placeholder(tf.float32, shape=(batch_size, num_labels))\n",
    "  tf_valid_dataset = tf.constant(valid_dataset)\n",
    "  tf_test_dataset = tf.constant(test_dataset)\n",
    "\n",
    "  # Variables.\n",
    "  weights = tf.Variable(\n",
    "    tf.truncated_normal([image_size * image_size, num_labels]))\n",
    "  biases = tf.Variable(tf.zeros([num_labels]))\n",
    "\n",
    "  # Training computation.\n",
    "  logits = tf.matmul(tf_train_dataset, weights) + biases\n",
    "  loss = tf.reduce_mean(\n",
    "    tf.nn.softmax_cross_entropy_with_logits(labels=tf_train_labels, logits=logits))\n",
    "\n",
    "  # Optimizer.\n",
    "  optimizer = tf.train.GradientDescentOptimizer(0.5).minimize(loss)\n",
    "\n",
    "  # Predictions for the training, validation, and test data.\n",
    "  train_prediction = tf.nn.softmax(logits)\n",
    "  valid_prediction = tf.nn.softmax(\n",
    "    tf.matmul(tf_valid_dataset, weights) + biases)\n",
    "  test_prediction = tf.nn.softmax(tf.matmul(tf_test_dataset, weights) + biases)\n",
    "    \n",
    "def run_graph_overfit(steps, batch_size, output_interval):\n",
    "    with tf.Session(graph=graph) as session:\n",
    "        tf.global_variables_initializer().run()\n",
    "        print(\"Initialized\")\n",
    "        for step in range(steps):\n",
    "            # Pick an offset within the training data, which has been randomized.\n",
    "            # Note: we could use better randomization across epochs.\n",
    "            offset = batch_size * np.random.choice(range(5))\n",
    "            # Generate a minibatch.\n",
    "            batch_data = train_dataset[offset:(offset + batch_size), :]\n",
    "            batch_labels = train_labels[offset:(offset + batch_size), :]\n",
    "            # Prepare a dictionary telling the session where to feed the minibatch.\n",
    "            # The key of the dictionary is the placeholder node of the graph to be fed,\n",
    "            # and the value is the numpy array to feed to it.\n",
    "            feed_dict = {tf_train_dataset : batch_data, tf_train_labels : batch_labels}\n",
    "            _, l, predictions = session.run(\n",
    "              [optimizer, loss, train_prediction], feed_dict=feed_dict)\n",
    "            if (step % output_interval == 0 or step == steps - 1):\n",
    "              print(\"Minibatch loss at step %d: %f\" % (step, l))\n",
    "              print(\"Minibatch accuracy: %.1f%%\" % accuracy(predictions, batch_labels))\n",
    "              print(\"Validation accuracy: %.1f%%\" % accuracy(\n",
    "                valid_prediction.eval(), valid_labels))\n",
    "        print(\"Test accuracy: %.1f%%\" % accuracy(test_prediction.eval(), test_labels))\n",
    "    \n",
    "run_graph_overfit(num_steps, batch_size, print_interval)"
   ]
  },
  {
   "cell_type": "markdown",
   "metadata": {
    "deletable": true,
    "editable": true
   },
   "source": [
    "### Overfitting: logistic regression, using L2 regularization shows better result than without L2 regularization"
   ]
  },
  {
   "cell_type": "code",
   "execution_count": 9,
   "metadata": {
    "collapsed": false,
    "deletable": true,
    "editable": true
   },
   "outputs": [
    {
     "name": "stdout",
     "output_type": "stream",
     "text": [
      "Initialized\n",
      "Minibatch loss at step 0: 22.855618\n",
      "Minibatch accuracy: 3.1%\n",
      "Validation accuracy: 10.5%\n",
      "Minibatch loss at step 500: 1.822411\n",
      "Minibatch accuracy: 100.0%\n",
      "Validation accuracy: 67.9%\n",
      "Minibatch loss at step 1000: 1.121768\n",
      "Minibatch accuracy: 100.0%\n",
      "Validation accuracy: 70.2%\n",
      "Minibatch loss at step 1500: 0.759718\n",
      "Minibatch accuracy: 98.4%\n",
      "Validation accuracy: 71.5%\n",
      "Minibatch loss at step 2000: 0.463993\n",
      "Minibatch accuracy: 100.0%\n",
      "Validation accuracy: 72.9%\n",
      "Minibatch loss at step 2500: 0.314765\n",
      "Minibatch accuracy: 100.0%\n",
      "Validation accuracy: 73.5%\n",
      "Minibatch loss at step 3000: 0.228419\n",
      "Minibatch accuracy: 100.0%\n",
      "Validation accuracy: 74.1%\n",
      "Test accuracy: 81.1%\n"
     ]
    }
   ],
   "source": [
    "graph = tf.Graph()\n",
    "with graph.as_default():\n",
    "\n",
    "  # Input data. For the training data, we use a placeholder that will be fed\n",
    "  # at run time with a training minibatch.\n",
    "  tf_train_dataset = tf.placeholder(tf.float32,\n",
    "                                    shape=(batch_size, image_size * image_size))\n",
    "  tf_train_labels = tf.placeholder(tf.float32, shape=(batch_size, num_labels))\n",
    "  tf_valid_dataset = tf.constant(valid_dataset)\n",
    "  tf_test_dataset = tf.constant(test_dataset)\n",
    "\n",
    "  # Variables.\n",
    "  weights = tf.Variable(\n",
    "    tf.truncated_normal([image_size * image_size, num_labels]))\n",
    "  biases = tf.Variable(tf.zeros([num_labels]))\n",
    "\n",
    "  # Training computation.\n",
    "  logits = tf.matmul(tf_train_dataset, weights) + biases\n",
    "  loss = tf.reduce_mean(\n",
    "    tf.nn.softmax_cross_entropy_with_logits(labels=tf_train_labels, logits=logits)) + l2_loss_param * tf.nn.l2_loss(weights)\n",
    "\n",
    "  # Optimizer.\n",
    "  optimizer = tf.train.GradientDescentOptimizer(0.5).minimize(loss)\n",
    "\n",
    "  # Predictions for the training, validation, and test data.\n",
    "  train_prediction = tf.nn.softmax(logits)\n",
    "  valid_prediction = tf.nn.softmax(\n",
    "    tf.matmul(tf_valid_dataset, weights) + biases)\n",
    "  test_prediction = tf.nn.softmax(tf.matmul(tf_test_dataset, weights) + biases)\n",
    "    \n",
    "def run_graph_overfit(steps, batch_size, output_interval):\n",
    "    with tf.Session(graph=graph) as session:\n",
    "        tf.global_variables_initializer().run()\n",
    "        print(\"Initialized\")\n",
    "        for step in range(steps):\n",
    "            # Pick an offset within the training data, which has been randomized.\n",
    "            # Note: we could use better randomization across epochs.\n",
    "            offset = batch_size * np.random.choice(range(5))\n",
    "            # Generate a minibatch.\n",
    "            batch_data = train_dataset[offset:(offset + batch_size), :]\n",
    "            batch_labels = train_labels[offset:(offset + batch_size), :]\n",
    "            # Prepare a dictionary telling the session where to feed the minibatch.\n",
    "            # The key of the dictionary is the placeholder node of the graph to be fed,\n",
    "            # and the value is the numpy array to feed to it.\n",
    "            feed_dict = {tf_train_dataset : batch_data, tf_train_labels : batch_labels}\n",
    "            _, l, predictions = session.run(\n",
    "              [optimizer, loss, train_prediction], feed_dict=feed_dict)\n",
    "            if (step % output_interval == 0 or step == steps - 1):\n",
    "              print(\"Minibatch loss at step %d: %f\" % (step, l))\n",
    "              print(\"Minibatch accuracy: %.1f%%\" % accuracy(predictions, batch_labels))\n",
    "              print(\"Validation accuracy: %.1f%%\" % accuracy(\n",
    "                valid_prediction.eval(), valid_labels))\n",
    "        print(\"Test accuracy: %.1f%%\" % accuracy(test_prediction.eval(), test_labels))\n",
    "    \n",
    "run_graph_overfit(num_steps, batch_size, print_interval)"
   ]
  },
  {
   "cell_type": "markdown",
   "metadata": {
    "deletable": true,
    "editable": true
   },
   "source": [
    "### Overfitting: 1-hidden layer neural network, no L2 regularization"
   ]
  },
  {
   "cell_type": "code",
   "execution_count": 10,
   "metadata": {
    "collapsed": false,
    "deletable": true,
    "editable": true
   },
   "outputs": [
    {
     "name": "stdout",
     "output_type": "stream",
     "text": [
      "Initialized\n",
      "Minibatch loss at step 0: 400.077393\n",
      "Minibatch accuracy: 8.6%\n",
      "Validation accuracy: 23.8%\n",
      "Minibatch loss at step 500: 0.000000\n",
      "Minibatch accuracy: 100.0%\n",
      "Validation accuracy: 76.3%\n",
      "Minibatch loss at step 1000: 0.000000\n",
      "Minibatch accuracy: 100.0%\n",
      "Validation accuracy: 76.8%\n",
      "Minibatch loss at step 1500: 0.000002\n",
      "Minibatch accuracy: 100.0%\n",
      "Validation accuracy: 77.0%\n",
      "Minibatch loss at step 2000: 0.029012\n",
      "Minibatch accuracy: 99.2%\n",
      "Validation accuracy: 76.9%\n",
      "Minibatch loss at step 2500: 0.003157\n",
      "Minibatch accuracy: 100.0%\n",
      "Validation accuracy: 76.8%\n",
      "Minibatch loss at step 3000: 0.000003\n",
      "Minibatch accuracy: 100.0%\n",
      "Validation accuracy: 76.8%\n",
      "Test accuracy: 83.2%\n"
     ]
    }
   ],
   "source": [
    "graph = tf.Graph()\n",
    "with graph.as_default():\n",
    "\n",
    "    # Input data. For the training data, we use a placeholder that will be fed\n",
    "  # at run time with a training minibatch.\n",
    "  tf_train_dataset = tf.placeholder(tf.float32,\n",
    "                                    shape=(batch_size, image_size * image_size))\n",
    "  tf_train_labels = tf.placeholder(tf.float32, shape=(batch_size, num_labels))\n",
    "  tf_valid_dataset = tf.constant(valid_dataset)\n",
    "  tf_test_dataset = tf.constant(test_dataset)\n",
    "\n",
    "  # Variables.\n",
    "  weights_first = tf.Variable(\n",
    "    tf.truncated_normal([image_size * image_size, hidden_layer_size]))\n",
    "  biases_first = tf.Variable(tf.zeros([hidden_layer_size]))\n",
    "\n",
    "  weights_second = tf.Variable(\n",
    "    tf.truncated_normal([hidden_layer_size, num_labels]))\n",
    "  biases_second = tf.Variable(tf.zeros([num_labels]))\n",
    "\n",
    "  # Training computation.\n",
    "  logits_first = tf.matmul(tf_train_dataset, weights_first) + biases_first\n",
    "  relu_output = tf.nn.relu(logits_first)\n",
    "  logits_second = tf.matmul(relu_output, weights_second) + biases_second\n",
    "  loss = tf.reduce_mean(tf.nn.softmax_cross_entropy_with_logits(labels=tf_train_labels, logits=logits_second))\n",
    "         \n",
    "\n",
    "  # Optimizer.\n",
    "  optimizer = tf.train.GradientDescentOptimizer(0.5).minimize(loss)\n",
    "\n",
    "  # Predictions for the training, validation, and test data.\n",
    "  train_prediction = tf.nn.softmax(logits_second)\n",
    "  valid_prediction = tf.nn.softmax(\n",
    "      tf.matmul(\n",
    "          tf.nn.relu(\n",
    "              tf.matmul(tf_valid_dataset, weights_first) + biases_first), \n",
    "          weights_second)\n",
    "      + biases_second)\n",
    "\n",
    "  test_prediction = tf.nn.softmax(\n",
    "      tf.matmul(\n",
    "          tf.nn.relu(\n",
    "              tf.matmul(tf_test_dataset, weights_first) + biases_first), \n",
    "          weights_second)\n",
    "      + biases_second)\n",
    "\n",
    "run_graph_overfit(num_steps, batch_size, print_interval)"
   ]
  },
  {
   "cell_type": "markdown",
   "metadata": {
    "colab_type": "text",
    "deletable": true,
    "editable": true,
    "id": "ww3SCBUdlkRc"
   },
   "source": [
    "---\n",
    "Problem 3\n",
    "---------\n",
    "Introduce Dropout on the hidden layer of the neural network. Remember: Dropout should only be introduced during training, not evaluation, otherwise your evaluation results would be stochastic as well. TensorFlow provides `nn.dropout()` for that, but you have to make sure it's only inserted during training.\n",
    "\n",
    "What happens to our extreme overfitting case?\n",
    "\n",
    "---"
   ]
  },
  {
   "cell_type": "code",
   "execution_count": 13,
   "metadata": {
    "collapsed": false,
    "deletable": true,
    "editable": true
   },
   "outputs": [
    {
     "name": "stdout",
     "output_type": "stream",
     "text": [
      "Initialized\n",
      "Minibatch loss at step 0: 473.566345\n",
      "Minibatch accuracy: 9.4%\n",
      "Validation accuracy: 27.0%\n",
      "Minibatch loss at step 500: 22.055038\n",
      "Minibatch accuracy: 77.3%\n",
      "Validation accuracy: 79.6%\n",
      "Minibatch loss at step 1000: 32.207401\n",
      "Minibatch accuracy: 68.0%\n",
      "Validation accuracy: 79.3%\n",
      "Minibatch loss at step 1500: 8.705660\n",
      "Minibatch accuracy: 75.8%\n",
      "Validation accuracy: 79.3%\n",
      "Minibatch loss at step 2000: 27.229733\n",
      "Minibatch accuracy: 65.6%\n",
      "Validation accuracy: 78.1%\n",
      "Minibatch loss at step 2500: 17.661911\n",
      "Minibatch accuracy: 70.3%\n",
      "Validation accuracy: 80.3%\n",
      "Minibatch loss at step 3000: 5.553663\n",
      "Minibatch accuracy: 66.4%\n",
      "Validation accuracy: 79.6%\n",
      "Test accuracy: 86.3%\n"
     ]
    }
   ],
   "source": [
    "keep_prob = 0.5\n",
    "\n",
    "graph = tf.Graph()\n",
    "with graph.as_default():\n",
    "\n",
    "    # Input data. For the training data, we use a placeholder that will be fed\n",
    "  # at run time with a training minibatch.\n",
    "  tf_train_dataset = tf.placeholder(tf.float32,\n",
    "                                    shape=(batch_size, image_size * image_size))\n",
    "  tf_train_labels = tf.placeholder(tf.float32, shape=(batch_size, num_labels))\n",
    "  tf_valid_dataset = tf.constant(valid_dataset)\n",
    "  tf_test_dataset = tf.constant(test_dataset)\n",
    "\n",
    "  # Variables.\n",
    "  weights_first = tf.Variable(\n",
    "    tf.truncated_normal([image_size * image_size, hidden_layer_size]))\n",
    "  biases_first = tf.Variable(tf.zeros([hidden_layer_size]))\n",
    "\n",
    "  weights_second = tf.Variable(\n",
    "    tf.truncated_normal([hidden_layer_size, num_labels]))\n",
    "  biases_second = tf.Variable(tf.zeros([num_labels]))\n",
    "\n",
    "  # Training computation.\n",
    "  logits_first = tf.matmul(tf_train_dataset, weights_first) + biases_first\n",
    "  relu_output = tf.nn.relu(logits_first)\n",
    "  dropout_output = tf.nn.dropout(relu_output, keep_prob)\n",
    "\n",
    "  logits_second = tf.matmul(dropout_output, weights_second) + biases_second\n",
    "  loss = tf.reduce_mean(tf.nn.softmax_cross_entropy_with_logits(labels=tf_train_labels, logits=logits_second))\n",
    "       \n",
    "\n",
    "  # Optimizer.\n",
    "  optimizer = tf.train.GradientDescentOptimizer(0.5).minimize(loss)\n",
    "\n",
    "  # Predictions for the training, validation, and test data.\n",
    "  train_prediction = tf.nn.softmax(logits_second)\n",
    "  valid_prediction = tf.nn.softmax(\n",
    "      tf.matmul(\n",
    "          tf.nn.relu(\n",
    "              tf.matmul(tf_valid_dataset, weights_first) + biases_first), \n",
    "          weights_second)\n",
    "      + biases_second)\n",
    "\n",
    "  test_prediction = tf.nn.softmax(\n",
    "      tf.matmul(\n",
    "          tf.nn.relu(\n",
    "              tf.matmul(tf_test_dataset, weights_first) + biases_first), \n",
    "          weights_second)\n",
    "      + biases_second)\n",
    "    \n",
    "run_graph(num_steps, batch_size, print_interval)"
   ]
  },
  {
   "cell_type": "markdown",
   "metadata": {
    "deletable": true,
    "editable": true
   },
   "source": [
    "### Use dropout on overfitting case"
   ]
  },
  {
   "cell_type": "code",
   "execution_count": 14,
   "metadata": {
    "collapsed": false,
    "deletable": true,
    "editable": true
   },
   "outputs": [
    {
     "name": "stdout",
     "output_type": "stream",
     "text": [
      "Initialized\n",
      "Minibatch loss at step 0: 528.977600\n",
      "Minibatch accuracy: 2.3%\n",
      "Validation accuracy: 25.6%\n",
      "Minibatch loss at step 500: 12.136149\n",
      "Minibatch accuracy: 97.7%\n",
      "Validation accuracy: 76.1%\n",
      "Minibatch loss at step 1000: 0.000000\n",
      "Minibatch accuracy: 100.0%\n",
      "Validation accuracy: 76.7%\n",
      "Minibatch loss at step 1500: 0.000000\n",
      "Minibatch accuracy: 100.0%\n",
      "Validation accuracy: 78.3%\n",
      "Minibatch loss at step 2000: 0.000000\n",
      "Minibatch accuracy: 100.0%\n",
      "Validation accuracy: 78.2%\n",
      "Minibatch loss at step 2500: 0.000000\n",
      "Minibatch accuracy: 100.0%\n",
      "Validation accuracy: 77.8%\n",
      "Minibatch loss at step 3000: 0.000000\n",
      "Minibatch accuracy: 100.0%\n",
      "Validation accuracy: 78.0%\n",
      "Test accuracy: 84.9%\n"
     ]
    }
   ],
   "source": [
    "graph = tf.Graph()\n",
    "with graph.as_default():\n",
    "\n",
    "    # Input data. For the training data, we use a placeholder that will be fed\n",
    "  # at run time with a training minibatch.\n",
    "  tf_train_dataset = tf.placeholder(tf.float32,\n",
    "                                    shape=(batch_size, image_size * image_size))\n",
    "  tf_train_labels = tf.placeholder(tf.float32, shape=(batch_size, num_labels))\n",
    "  tf_valid_dataset = tf.constant(valid_dataset)\n",
    "  tf_test_dataset = tf.constant(test_dataset)\n",
    "\n",
    "  # Variables.\n",
    "  weights_first = tf.Variable(\n",
    "    tf.truncated_normal([image_size * image_size, hidden_layer_size]))\n",
    "  biases_first = tf.Variable(tf.zeros([hidden_layer_size]))\n",
    "\n",
    "  weights_second = tf.Variable(\n",
    "    tf.truncated_normal([hidden_layer_size, num_labels]))\n",
    "  biases_second = tf.Variable(tf.zeros([num_labels]))\n",
    "\n",
    "  # Training computation.\n",
    "  logits_first = tf.matmul(tf_train_dataset, weights_first) + biases_first\n",
    "  relu_output = tf.nn.relu(logits_first)\n",
    "  dropout_output = tf.nn.dropout(relu_output, keep_prob)\n",
    "\n",
    "  logits_second = tf.matmul(dropout_output, weights_second) + biases_second\n",
    "  loss = tf.reduce_mean(tf.nn.softmax_cross_entropy_with_logits(labels=tf_train_labels, logits=logits_second))\n",
    "       \n",
    "\n",
    "  # Optimizer.\n",
    "  optimizer = tf.train.GradientDescentOptimizer(0.5).minimize(loss)\n",
    "\n",
    "  # Predictions for the training, validation, and test data.\n",
    "  train_prediction = tf.nn.softmax(logits_second)\n",
    "  valid_prediction = tf.nn.softmax(\n",
    "      tf.matmul(\n",
    "          tf.nn.relu(\n",
    "              tf.matmul(tf_valid_dataset, weights_first) + biases_first), \n",
    "          weights_second)\n",
    "      + biases_second)\n",
    "\n",
    "  test_prediction = tf.nn.softmax(\n",
    "      tf.matmul(\n",
    "          tf.nn.relu(\n",
    "              tf.matmul(tf_test_dataset, weights_first) + biases_first), \n",
    "          weights_second)\n",
    "      + biases_second)\n",
    "    \n",
    "run_graph_overfit(num_steps, batch_size, print_interval)"
   ]
  },
  {
   "cell_type": "markdown",
   "metadata": {
    "colab_type": "text",
    "deletable": true,
    "editable": true,
    "id": "-b1hTz3VWZjw"
   },
   "source": [
    "---\n",
    "Problem 4\n",
    "---------\n",
    "\n",
    "Try to get the best performance you can using a multi-layer model! The best reported test accuracy using a deep network is [97.1%](http://yaroslavvb.blogspot.com/2011/09/notmnist-dataset.html?showComment=1391023266211#c8758720086795711595).\n",
    "\n",
    "One avenue you can explore is to add multiple layers.\n",
    "\n",
    "Another one is to use learning rate decay:\n",
    "\n",
    "    global_step = tf.Variable(0)  # count the number of steps taken.\n",
    "    learning_rate = tf.train.exponential_decay(0.5, global_step, ...)\n",
    "    optimizer = tf.train.GradientDescentOptimizer(learning_rate).minimize(loss, global_step=global_step)\n",
    " \n",
    " ---\n"
   ]
  },
  {
   "cell_type": "code",
   "execution_count": 130,
   "metadata": {
    "collapsed": false,
    "deletable": true,
    "editable": true
   },
   "outputs": [
    {
     "name": "stdout",
     "output_type": "stream",
     "text": [
      "Initialized\n",
      "Minibatch loss at step 0: 29093.755859\n",
      "Minibatch accuracy: 11.7%\n",
      "Validation accuracy: 21.4%\n",
      "Minibatch loss at step 500: 3832.422363\n",
      "Minibatch accuracy: 65.6%\n",
      "Validation accuracy: 80.9%\n",
      "Minibatch loss at step 1000: 3800.354736\n",
      "Minibatch accuracy: 64.8%\n",
      "Validation accuracy: 81.0%\n",
      "Minibatch loss at step 1500: 4128.966309\n",
      "Minibatch accuracy: 60.2%\n",
      "Validation accuracy: 81.0%\n",
      "Minibatch loss at step 2000: 3995.644531\n",
      "Minibatch accuracy: 59.4%\n",
      "Validation accuracy: 81.0%\n",
      "Minibatch loss at step 2500: 3801.587158\n",
      "Minibatch accuracy: 69.5%\n",
      "Validation accuracy: 81.0%\n",
      "Minibatch loss at step 3000: 4106.350586\n",
      "Minibatch accuracy: 63.3%\n",
      "Validation accuracy: 81.0%\n",
      "Test accuracy: 87.4%\n"
     ]
    }
   ],
   "source": [
    "hidden_layer_size = 1024\n",
    "starter_learning_rate = 0.001\n",
    "l2_loss_param = 0.01\n",
    "keep_prob = 0.5\n",
    "weight_stddev = 0.5\n",
    "\n",
    "def calc_single_hidden_layer(x, weight, bias, dropout_keep_prob = 1):\n",
    "    logits = tf.matmul(x, weight) + bias\n",
    "    relu_output = tf.nn.relu(logits)\n",
    "    dropout_output = tf.nn.dropout(relu_output, dropout_keep_prob)\n",
    "    return dropout_output\n",
    "\n",
    "def calc_single_output_layer(x, weight, bias):\n",
    "    matmul_result = tf.check_numerics(tf.matmul(x, weight), \"nan or inf of tf.matmul(x, weight)\")\n",
    "    logits = matmul_result + bias\n",
    "    #logits = tf.matmul(x, weight) + bias\n",
    "    return logits\n",
    "\n",
    "def calc_multi_layer(x, weights, biases, dropout_keep_prob = 1):\n",
    "    dropout_output_first = calc_single_hidden_layer(x, weights['h1'], biases['h1'], dropout_keep_prob)\n",
    "    dropout_output_second = calc_single_hidden_layer(dropout_output_first, weights['h2'], biases['h2'], dropout_keep_prob)\n",
    "    dropout_output_third = calc_single_hidden_layer(dropout_output_second, weights['h3'], biases['h3'], dropout_keep_prob)\n",
    "    output_third = calc_single_output_layer(dropout_output_third, weights['out'], biases['out'])\n",
    "    return output_third\n",
    "\n",
    "graph = tf.Graph()\n",
    "with graph.as_default():\n",
    "    \n",
    "    # Input data. For the training data, we use a placeholder that will be fed\n",
    "    # at run time with a training minibatch.\n",
    "    tf_train_dataset = tf.placeholder(tf.float32,\n",
    "                                    shape=(batch_size, image_size * image_size))\n",
    "    tf_train_labels = tf.placeholder(tf.float32, shape=(batch_size, num_labels))\n",
    "    tf_valid_dataset = tf.constant(valid_dataset)\n",
    "    tf_test_dataset = tf.constant(test_dataset)\n",
    "\n",
    "    # Variables.\n",
    "    weights = {'h1':tf.Variable(tf.truncated_normal([image_size * image_size, hidden_layer_size], stddev = weight_stddev)),\n",
    "             'h2':tf.Variable(tf.truncated_normal([hidden_layer_size, hidden_layer_size], stddev = weight_stddev)),\n",
    "             'h3':tf.Variable(tf.truncated_normal([hidden_layer_size, hidden_layer_size], stddev = weight_stddev)),\n",
    "             'out':tf.Variable(tf.truncated_normal([hidden_layer_size, num_labels], stddev = weight_stddev))}\n",
    "\n",
    "    biases = {'h1':tf.Variable(tf.zeros([hidden_layer_size])),\n",
    "            'h2':tf.Variable(tf.zeros([hidden_layer_size])),\n",
    "            'h3':tf.Variable(tf.zeros([hidden_layer_size])),\n",
    "            'out':tf.Variable(tf.zeros([num_labels]))}\n",
    "    \n",
    "    global_step = tf.Variable(0, trainable=False)\n",
    "\n",
    "    # Training computation.\n",
    "    logits_final_layer = calc_multi_layer(tf_train_dataset, weights, biases, keep_prob)\n",
    "\n",
    "    loss = (tf.reduce_mean(tf.nn.softmax_cross_entropy_with_logits(labels=tf_train_labels, logits=logits_final_layer))\n",
    "            + l2_loss_param * tf.nn.l2_loss(weights['h1'])\n",
    "            + l2_loss_param * tf.nn.l2_loss(weights['h2'])\n",
    "            + l2_loss_param * tf.nn.l2_loss(weights['h3'])\n",
    "            + l2_loss_param * tf.nn.l2_loss(weights['out']))\n",
    "\n",
    "    # Optimizer.\n",
    "    learning_rate = tf.train.exponential_decay(starter_learning_rate, global_step,\n",
    "                                           10, 0.95, staircase=True)\n",
    "\n",
    "    optimizer = tf.train.GradientDescentOptimizer(learning_rate).minimize(loss, global_step=global_step)\n",
    "\n",
    "    # Predictions for the training, validation, and test data.\n",
    "    train_prediction = tf.nn.softmax(logits_final_layer)\n",
    "    valid_prediction = tf.nn.softmax(calc_multi_layer(tf_valid_dataset, weights, biases))\n",
    "    test_prediction = tf.nn.softmax(calc_multi_layer(tf_test_dataset, weights, biases))\n",
    "    \n",
    "    check_op = tf.add_check_numerics_ops()\n",
    "    \n",
    "# Troubleshooting nan or inf issue steps:\n",
    "# 1. Use tf.add_check_numerics_ops() to find out where generates the first nan or inf value\n",
    "# 2. Use tf.check_numerics to confirm/find out the exact code location where the first nan or inf generated according to the result of step 1\n",
    "# 3. Print out the related values in session.run(...) to find out the value pattern of each step: the value got bigger and bigger eventually overflow happend\n",
    "def run_graph(steps, batch_size, output_interval):\n",
    "    with tf.Session(graph=graph) as session:\n",
    "        tf.global_variables_initializer().run()\n",
    "        print(\"Initialized\")\n",
    "        for step in range(steps):\n",
    "            # Pick an offset within the training data, which has been randomized.\n",
    "            # Note: we could use better randomization across epochs.\n",
    "            offset = (step * batch_size) % (train_labels.shape[0] - batch_size)\n",
    "            # Generate a minibatch.\n",
    "            batch_data = train_dataset[offset:(offset + batch_size), :]\n",
    "            batch_labels = train_labels[offset:(offset + batch_size), :]\n",
    "            # Prepare a dictionary telling the session where to feed the minibatch.\n",
    "            # The key of the dictionary is the placeholder node of the graph to be fed,\n",
    "            # and the value is the numpy array to feed to it.\n",
    "            feed_dict = {tf_train_dataset : batch_data, tf_train_labels : batch_labels}\n",
    "\n",
    "            #print(step)\n",
    "#             print(session.run(logits_final_layer, feed_dict=feed_dict))\n",
    "#             _, l, predictions, op = session.run(\n",
    "#                [optimizer, loss, train_prediction, check_op], feed_dict=feed_dict)\n",
    "            _, l, predictions = session.run(\n",
    "               [optimizer, loss, train_prediction], feed_dict=feed_dict)\n",
    "            \n",
    "            if (step % output_interval == 0 or step == steps - 1):\n",
    "              print(\"Minibatch loss at step %d: %f\" % (step, l))\n",
    "              print(\"Minibatch accuracy: %.1f%%\" % accuracy(predictions, batch_labels))\n",
    "              print(\"Validation accuracy: %.1f%%\" % accuracy(\n",
    "                valid_prediction.eval(), valid_labels))\n",
    "        print(\"Test accuracy: %.1f%%\" % accuracy(test_prediction.eval(), test_labels))\n",
    "\n",
    "run_graph(num_steps, batch_size, print_interval)"
   ]
  },
  {
   "cell_type": "code",
   "execution_count": null,
   "metadata": {
    "collapsed": true,
    "deletable": true,
    "editable": true
   },
   "outputs": [],
   "source": []
  }
 ],
 "metadata": {
  "colab": {
   "default_view": {},
   "name": "3_regularization.ipynb",
   "provenance": [],
   "version": "0.3.2",
   "views": {}
  },
  "kernelspec": {
   "display_name": "Python 2",
   "language": "python",
   "name": "python2"
  },
  "language_info": {
   "codemirror_mode": {
    "name": "ipython",
    "version": 2
   },
   "file_extension": ".py",
   "mimetype": "text/x-python",
   "name": "python",
   "nbconvert_exporter": "python",
   "pygments_lexer": "ipython2",
   "version": "2.7.6"
  }
 },
 "nbformat": 4,
 "nbformat_minor": 0
}
