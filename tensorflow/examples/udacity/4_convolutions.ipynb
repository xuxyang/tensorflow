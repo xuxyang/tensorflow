{
 "cells": [
  {
   "cell_type": "markdown",
   "metadata": {
    "colab_type": "text",
    "deletable": true,
    "editable": true,
    "id": "4embtkV0pNxM"
   },
   "source": [
    "Deep Learning\n",
    "=============\n",
    "\n",
    "Assignment 4\n",
    "------------\n",
    "\n",
    "Previously in `2_fullyconnected.ipynb` and `3_regularization.ipynb`, we trained fully connected networks to classify [notMNIST](http://yaroslavvb.blogspot.com/2011/09/notmnist-dataset.html) characters.\n",
    "\n",
    "The goal of this assignment is make the neural network convolutional."
   ]
  },
  {
   "cell_type": "code",
   "execution_count": 3,
   "metadata": {
    "cellView": "both",
    "colab": {
     "autoexec": {
      "startup": false,
      "wait_interval": 0
     }
    },
    "colab_type": "code",
    "collapsed": true,
    "deletable": true,
    "editable": true,
    "id": "tm2CQN_Cpwj0"
   },
   "outputs": [],
   "source": [
    "# These are all the modules we'll be using later. Make sure you can import them\n",
    "# before proceeding further.\n",
    "from __future__ import print_function\n",
    "import numpy as np\n",
    "import tensorflow as tf\n",
    "from six.moves import cPickle as pickle\n",
    "from six.moves import range"
   ]
  },
  {
   "cell_type": "code",
   "execution_count": 4,
   "metadata": {
    "cellView": "both",
    "colab": {
     "autoexec": {
      "startup": false,
      "wait_interval": 0
     },
     "output_extras": [
      {
       "item_id": 1
      }
     ]
    },
    "colab_type": "code",
    "collapsed": false,
    "deletable": true,
    "editable": true,
    "executionInfo": {
     "elapsed": 11948,
     "status": "ok",
     "timestamp": 1446658914837,
     "user": {
      "color": "",
      "displayName": "",
      "isAnonymous": false,
      "isMe": true,
      "permissionId": "",
      "photoUrl": "",
      "sessionId": "0",
      "userId": ""
     },
     "user_tz": 480
    },
    "id": "y3-cj1bpmuxc",
    "outputId": "016b1a51-0290-4b08-efdb-8c95ffc3cd01"
   },
   "outputs": [
    {
     "name": "stdout",
     "output_type": "stream",
     "text": [
      "Training set (200000, 28, 28) (200000,)\n",
      "Validation set (10000, 28, 28) (10000,)\n",
      "Test set (10000, 28, 28) (10000,)\n"
     ]
    }
   ],
   "source": [
    "pickle_file = 'notMNIST.pickle'\n",
    "\n",
    "with open(pickle_file, 'rb') as f:\n",
    "  save = pickle.load(f)\n",
    "  train_dataset = save['train_dataset']\n",
    "  train_labels = save['train_labels']\n",
    "  valid_dataset = save['valid_dataset']\n",
    "  valid_labels = save['valid_labels']\n",
    "  test_dataset = save['test_dataset']\n",
    "  test_labels = save['test_labels']\n",
    "  del save  # hint to help gc free up memory\n",
    "  print('Training set', train_dataset.shape, train_labels.shape)\n",
    "  print('Validation set', valid_dataset.shape, valid_labels.shape)\n",
    "  print('Test set', test_dataset.shape, test_labels.shape)"
   ]
  },
  {
   "cell_type": "markdown",
   "metadata": {
    "colab_type": "text",
    "deletable": true,
    "editable": true,
    "id": "L7aHrm6nGDMB"
   },
   "source": [
    "Reformat into a TensorFlow-friendly shape:\n",
    "- convolutions need the image data formatted as a cube (width by height by #channels)\n",
    "- labels as float 1-hot encodings."
   ]
  },
  {
   "cell_type": "code",
   "execution_count": 5,
   "metadata": {
    "cellView": "both",
    "colab": {
     "autoexec": {
      "startup": false,
      "wait_interval": 0
     },
     "output_extras": [
      {
       "item_id": 1
      }
     ]
    },
    "colab_type": "code",
    "collapsed": false,
    "deletable": true,
    "editable": true,
    "executionInfo": {
     "elapsed": 11952,
     "status": "ok",
     "timestamp": 1446658914857,
     "user": {
      "color": "",
      "displayName": "",
      "isAnonymous": false,
      "isMe": true,
      "permissionId": "",
      "photoUrl": "",
      "sessionId": "0",
      "userId": ""
     },
     "user_tz": 480
    },
    "id": "IRSyYiIIGIzS",
    "outputId": "650a208c-8359-4852-f4f5-8bf10e80ef6c"
   },
   "outputs": [
    {
     "name": "stdout",
     "output_type": "stream",
     "text": [
      "Training set (200000, 28, 28, 1) (200000, 10)\n",
      "Validation set (10000, 28, 28, 1) (10000, 10)\n",
      "Test set (10000, 28, 28, 1) (10000, 10)\n"
     ]
    }
   ],
   "source": [
    "image_size = 28\n",
    "num_labels = 10\n",
    "num_channels = 1 # grayscale\n",
    "\n",
    "import numpy as np\n",
    "\n",
    "def reformat(dataset, labels):\n",
    "  dataset = dataset.reshape(\n",
    "    (-1, image_size, image_size, num_channels)).astype(np.float32)\n",
    "  labels = (np.arange(num_labels) == labels[:,None]).astype(np.float32)\n",
    "  return dataset, labels\n",
    "train_dataset, train_labels = reformat(train_dataset, train_labels)\n",
    "valid_dataset, valid_labels = reformat(valid_dataset, valid_labels)\n",
    "test_dataset, test_labels = reformat(test_dataset, test_labels)\n",
    "print('Training set', train_dataset.shape, train_labels.shape)\n",
    "print('Validation set', valid_dataset.shape, valid_labels.shape)\n",
    "print('Test set', test_dataset.shape, test_labels.shape)"
   ]
  },
  {
   "cell_type": "code",
   "execution_count": 6,
   "metadata": {
    "cellView": "both",
    "colab": {
     "autoexec": {
      "startup": false,
      "wait_interval": 0
     }
    },
    "colab_type": "code",
    "collapsed": true,
    "deletable": true,
    "editable": true,
    "id": "AgQDIREv02p1"
   },
   "outputs": [],
   "source": [
    "def accuracy(predictions, labels):\n",
    "  return (100.0 * np.sum(np.argmax(predictions, 1) == np.argmax(labels, 1))\n",
    "          / predictions.shape[0])"
   ]
  },
  {
   "cell_type": "markdown",
   "metadata": {
    "colab_type": "text",
    "deletable": true,
    "editable": true,
    "id": "5rhgjmROXu2O"
   },
   "source": [
    "Let's build a small network with two convolutional layers, followed by one fully connected layer. Convolutional networks are more expensive computationally, so we'll limit its depth and number of fully connected nodes."
   ]
  },
  {
   "cell_type": "code",
   "execution_count": 7,
   "metadata": {
    "cellView": "both",
    "colab": {
     "autoexec": {
      "startup": false,
      "wait_interval": 0
     }
    },
    "colab_type": "code",
    "collapsed": true,
    "deletable": true,
    "editable": true,
    "id": "IZYv70SvvOan"
   },
   "outputs": [],
   "source": [
    "batch_size = 16\n",
    "patch_size = 5\n",
    "depth = 16\n",
    "num_hidden = 64\n",
    "\n",
    "graph = tf.Graph()\n",
    "\n",
    "with graph.as_default():\n",
    "\n",
    "  # Input data.\n",
    "  tf_train_dataset = tf.placeholder(\n",
    "    tf.float32, shape=(batch_size, image_size, image_size, num_channels))\n",
    "  tf_train_labels = tf.placeholder(tf.float32, shape=(batch_size, num_labels))\n",
    "  tf_valid_dataset = tf.constant(valid_dataset)\n",
    "  tf_test_dataset = tf.constant(test_dataset)\n",
    "  \n",
    "  # Variables.\n",
    "  layer1_weights = tf.Variable(tf.truncated_normal(\n",
    "      [patch_size, patch_size, num_channels, depth], stddev=0.1))\n",
    "  layer1_biases = tf.Variable(tf.zeros([depth]))\n",
    "  layer2_weights = tf.Variable(tf.truncated_normal(\n",
    "      [patch_size, patch_size, depth, depth], stddev=0.1))\n",
    "  layer2_biases = tf.Variable(tf.constant(1.0, shape=[depth]))\n",
    "  layer3_weights = tf.Variable(tf.truncated_normal(\n",
    "      [image_size // 4 * image_size // 4 * depth, num_hidden], stddev=0.1))\n",
    "  layer3_biases = tf.Variable(tf.constant(1.0, shape=[num_hidden]))\n",
    "  layer4_weights = tf.Variable(tf.truncated_normal(\n",
    "      [num_hidden, num_labels], stddev=0.1))\n",
    "  layer4_biases = tf.Variable(tf.constant(1.0, shape=[num_labels]))\n",
    "  \n",
    "  # Model.\n",
    "  def model(data):\n",
    "    conv = tf.nn.conv2d(data, layer1_weights, [1, 2, 2, 1], padding='SAME')\n",
    "    hidden = tf.nn.relu(conv + layer1_biases)\n",
    "    conv = tf.nn.conv2d(hidden, layer2_weights, [1, 2, 2, 1], padding='SAME')\n",
    "    hidden = tf.nn.relu(conv + layer2_biases)\n",
    "    shape = hidden.get_shape().as_list()\n",
    "    reshape = tf.reshape(hidden, [shape[0], shape[1] * shape[2] * shape[3]])\n",
    "    hidden = tf.nn.relu(tf.matmul(reshape, layer3_weights) + layer3_biases)\n",
    "    return tf.matmul(hidden, layer4_weights) + layer4_biases\n",
    "  \n",
    "  # Training computation.\n",
    "  logits = model(tf_train_dataset)\n",
    "  loss = tf.reduce_mean(\n",
    "    tf.nn.softmax_cross_entropy_with_logits(labels=tf_train_labels, logits=logits))\n",
    "    \n",
    "  # Optimizer.\n",
    "  optimizer = tf.train.GradientDescentOptimizer(0.05).minimize(loss)\n",
    "  \n",
    "  # Predictions for the training, validation, and test data.\n",
    "  train_prediction = tf.nn.softmax(logits)\n",
    "  valid_prediction = tf.nn.softmax(model(tf_valid_dataset))\n",
    "  test_prediction = tf.nn.softmax(model(tf_test_dataset))"
   ]
  },
  {
   "cell_type": "code",
   "execution_count": 8,
   "metadata": {
    "cellView": "both",
    "colab": {
     "autoexec": {
      "startup": false,
      "wait_interval": 0
     },
     "output_extras": [
      {
       "item_id": 37
      }
     ]
    },
    "colab_type": "code",
    "collapsed": false,
    "deletable": true,
    "editable": true,
    "executionInfo": {
     "elapsed": 63292,
     "status": "ok",
     "timestamp": 1446658966251,
     "user": {
      "color": "",
      "displayName": "",
      "isAnonymous": false,
      "isMe": true,
      "permissionId": "",
      "photoUrl": "",
      "sessionId": "0",
      "userId": ""
     },
     "user_tz": 480
    },
    "id": "noKFb2UovVFR",
    "outputId": "28941338-2ef9-4088-8bd1-44295661e628"
   },
   "outputs": [
    {
     "name": "stdout",
     "output_type": "stream",
     "text": [
      "Initialized\n",
      "Minibatch loss at step 0: 4.547965\n",
      "Minibatch accuracy: 12.5%\n",
      "Validation accuracy: 10.0%\n",
      "Minibatch loss at step 50: 1.642329\n",
      "Minibatch accuracy: 56.2%\n",
      "Validation accuracy: 49.8%\n",
      "Minibatch loss at step 100: 1.562582\n",
      "Minibatch accuracy: 50.0%\n",
      "Validation accuracy: 69.8%\n",
      "Minibatch loss at step 150: 0.694608\n",
      "Minibatch accuracy: 81.2%\n",
      "Validation accuracy: 76.3%\n",
      "Minibatch loss at step 200: 0.663996\n",
      "Minibatch accuracy: 75.0%\n",
      "Validation accuracy: 76.0%\n",
      "Minibatch loss at step 250: 1.190318\n",
      "Minibatch accuracy: 62.5%\n",
      "Validation accuracy: 78.4%\n",
      "Minibatch loss at step 300: 0.293090\n",
      "Minibatch accuracy: 93.8%\n",
      "Validation accuracy: 78.3%\n",
      "Minibatch loss at step 350: 0.239476\n",
      "Minibatch accuracy: 100.0%\n",
      "Validation accuracy: 77.8%\n",
      "Minibatch loss at step 400: 0.640537\n",
      "Minibatch accuracy: 75.0%\n",
      "Validation accuracy: 79.5%\n",
      "Minibatch loss at step 450: 0.431527\n",
      "Minibatch accuracy: 87.5%\n",
      "Validation accuracy: 80.5%\n",
      "Minibatch loss at step 500: 0.881256\n",
      "Minibatch accuracy: 75.0%\n",
      "Validation accuracy: 80.8%\n",
      "Minibatch loss at step 550: 0.581675\n",
      "Minibatch accuracy: 93.8%\n",
      "Validation accuracy: 81.2%\n",
      "Minibatch loss at step 600: 0.739148\n",
      "Minibatch accuracy: 81.2%\n",
      "Validation accuracy: 80.2%\n",
      "Minibatch loss at step 650: 0.757193\n",
      "Minibatch accuracy: 68.8%\n",
      "Validation accuracy: 80.7%\n",
      "Minibatch loss at step 700: 0.565676\n",
      "Minibatch accuracy: 68.8%\n",
      "Validation accuracy: 81.7%\n",
      "Minibatch loss at step 750: 0.721311\n",
      "Minibatch accuracy: 75.0%\n",
      "Validation accuracy: 81.2%\n",
      "Minibatch loss at step 800: 0.382542\n",
      "Minibatch accuracy: 87.5%\n",
      "Validation accuracy: 81.9%\n",
      "Minibatch loss at step 850: 0.574138\n",
      "Minibatch accuracy: 75.0%\n",
      "Validation accuracy: 81.7%\n",
      "Minibatch loss at step 900: 0.493824\n",
      "Minibatch accuracy: 87.5%\n",
      "Validation accuracy: 82.1%\n",
      "Minibatch loss at step 950: 0.358257\n",
      "Minibatch accuracy: 93.8%\n",
      "Validation accuracy: 82.6%\n",
      "Minibatch loss at step 1000: 0.593652\n",
      "Minibatch accuracy: 87.5%\n",
      "Validation accuracy: 82.3%\n",
      "Test accuracy: 89.6%\n"
     ]
    }
   ],
   "source": [
    "num_steps = 1001\n",
    "\n",
    "with tf.Session(graph=graph) as session:\n",
    "  tf.global_variables_initializer().run()\n",
    "  print('Initialized')\n",
    "  for step in range(num_steps):\n",
    "    offset = (step * batch_size) % (train_labels.shape[0] - batch_size)\n",
    "    batch_data = train_dataset[offset:(offset + batch_size), :, :, :]\n",
    "    batch_labels = train_labels[offset:(offset + batch_size), :]\n",
    "    feed_dict = {tf_train_dataset : batch_data, tf_train_labels : batch_labels}\n",
    "    _, l, predictions = session.run(\n",
    "      [optimizer, loss, train_prediction], feed_dict=feed_dict)\n",
    "    if (step % 50 == 0):\n",
    "      print('Minibatch loss at step %d: %f' % (step, l))\n",
    "      print('Minibatch accuracy: %.1f%%' % accuracy(predictions, batch_labels))\n",
    "      print('Validation accuracy: %.1f%%' % accuracy(\n",
    "        valid_prediction.eval(), valid_labels))\n",
    "  print('Test accuracy: %.1f%%' % accuracy(test_prediction.eval(), test_labels))"
   ]
  },
  {
   "cell_type": "markdown",
   "metadata": {
    "colab_type": "text",
    "deletable": true,
    "editable": true,
    "id": "KedKkn4EutIK"
   },
   "source": [
    "---\n",
    "Problem 1\n",
    "---------\n",
    "\n",
    "The convolutional model above uses convolutions with stride 2 to reduce the dimensionality. Replace the strides by a max pooling operation (`nn.max_pool()`) of stride 2 and kernel size 2.\n",
    "\n",
    "---"
   ]
  },
  {
   "cell_type": "code",
   "execution_count": 35,
   "metadata": {
    "collapsed": true
   },
   "outputs": [],
   "source": [
    "from math import ceil\n",
    "\n",
    "batch_size = 16\n",
    "patch_size = 5\n",
    "depth = 16\n",
    "num_hidden = 64\n",
    "\n",
    "def calc_HW(in_size, conv_stride, pool_stride):\n",
    "    layer1_conv_HW = ceil(in_size / conv_stride)\n",
    "    layer1_pool_HW = ceil(layer1_conv_HW / pool_stride)\n",
    "    layer2_conv_HW = ceil(layer1_pool_HW / conv_stride)\n",
    "    layer2_pool_HW = ceil(layer2_conv_HW / pool_stride)\n",
    "    return int(layer2_pool_HW)\n",
    "\n",
    "def init_weight_stddev(fan_in_size):\n",
    "    return np.sqrt(2.0/float(fan_in_size))\n",
    "\n",
    "graph = tf.Graph()\n",
    "\n",
    "with graph.as_default():\n",
    "\n",
    "  # Input data.\n",
    "  tf_train_dataset = tf.placeholder(\n",
    "    tf.float32, shape=(batch_size, image_size, image_size, num_channels))\n",
    "  tf_train_labels = tf.placeholder(tf.float32, shape=(batch_size, num_labels))\n",
    "  tf_valid_dataset = tf.constant(valid_dataset)\n",
    "  tf_test_dataset = tf.constant(test_dataset)\n",
    "  \n",
    "  # Variables.\n",
    "  layer1_weights = tf.Variable(tf.truncated_normal(\n",
    "      [patch_size, patch_size, num_channels, depth], stddev=init_weight_stddev(patch_size*patch_size*num_channels)))\n",
    "  layer1_biases = tf.Variable(tf.zeros([depth]))\n",
    "  layer2_weights = tf.Variable(tf.truncated_normal(\n",
    "      [patch_size, patch_size, depth, depth], stddev=init_weight_stddev(patch_size*patch_size*depth)))\n",
    "  layer2_biases = tf.Variable(tf.zeros([depth]))\n",
    "  layer3_weights = tf.Variable(tf.truncated_normal(\n",
    "      [calc_HW(image_size, 2, 2) * calc_HW(image_size, 2, 2) * depth, num_hidden], stddev=init_weight_stddev(calc_HW(image_size, 2, 2) * calc_HW(image_size, 2, 2) * depth)))\n",
    "  layer3_biases = tf.Variable(tf.zeros([num_hidden]))\n",
    "  layer4_weights = tf.Variable(tf.truncated_normal(\n",
    "      [num_hidden, num_labels], stddev=init_weight_stddev(num_hidden)))\n",
    "  layer4_biases = tf.Variable(tf.zeros([num_labels]))\n",
    "\n",
    "  # Model.\n",
    "  def model(data):\n",
    "    conv = tf.nn.conv2d(data, layer1_weights, [1, 2, 2, 1], padding='SAME')\n",
    "    relu = tf.nn.relu(conv + layer1_biases)\n",
    "    hidden = tf.nn.max_pool(relu, [1, 2, 2, 1], [1, 2, 2, 1], padding='SAME')\n",
    "    conv = tf.nn.conv2d(hidden, layer2_weights, [1, 2, 2, 1], padding='SAME')\n",
    "    relu = tf.nn.relu(conv + layer2_biases)\n",
    "    hidden = tf.nn.max_pool(relu, [1, 2, 2, 1], [1, 2, 2, 1], padding='SAME')\n",
    "    shape = hidden.get_shape().as_list()\n",
    "    reshape = tf.reshape(hidden, [shape[0], shape[1] * shape[2] * shape[3]])\n",
    "    hidden = tf.nn.relu(tf.matmul(reshape, layer3_weights) + layer3_biases)\n",
    "    return tf.matmul(hidden, layer4_weights) + layer4_biases\n",
    "  \n",
    "  # Training computation.\n",
    "  logits = model(tf_train_dataset)\n",
    "  loss = tf.reduce_mean(\n",
    "    tf.nn.softmax_cross_entropy_with_logits(labels=tf_train_labels, logits=logits))\n",
    "    \n",
    "  # Optimizer.\n",
    "  optimizer = tf.train.GradientDescentOptimizer(0.1).minimize(loss)\n",
    "  \n",
    "  # Predictions for the training, validation, and test data.\n",
    "  train_prediction = tf.nn.softmax(logits)\n",
    "  valid_prediction = tf.nn.softmax(model(tf_valid_dataset))\n",
    "  test_prediction = tf.nn.softmax(model(tf_test_dataset))"
   ]
  },
  {
   "cell_type": "code",
   "execution_count": 36,
   "metadata": {
    "collapsed": false
   },
   "outputs": [
    {
     "name": "stdout",
     "output_type": "stream",
     "text": [
      "Initialized\n",
      "Minibatch loss at step 0: 2.418697\n",
      "Minibatch accuracy: 6.2%\n",
      "Validation accuracy: 9.7%\n",
      "Minibatch loss at step 50: 1.437775\n",
      "Minibatch accuracy: 62.5%\n",
      "Validation accuracy: 62.4%\n",
      "Minibatch loss at step 100: 0.958705\n",
      "Minibatch accuracy: 75.0%\n",
      "Validation accuracy: 74.3%\n",
      "Minibatch loss at step 150: 0.603622\n",
      "Minibatch accuracy: 81.2%\n",
      "Validation accuracy: 76.3%\n",
      "Minibatch loss at step 200: 0.816757\n",
      "Minibatch accuracy: 81.2%\n",
      "Validation accuracy: 77.4%\n",
      "Minibatch loss at step 250: 0.901415\n",
      "Minibatch accuracy: 75.0%\n",
      "Validation accuracy: 74.3%\n",
      "Minibatch loss at step 300: 0.226415\n",
      "Minibatch accuracy: 93.8%\n",
      "Validation accuracy: 77.8%\n",
      "Minibatch loss at step 350: 0.202811\n",
      "Minibatch accuracy: 93.8%\n",
      "Validation accuracy: 77.5%\n",
      "Minibatch loss at step 400: 0.593826\n",
      "Minibatch accuracy: 81.2%\n",
      "Validation accuracy: 78.9%\n",
      "Minibatch loss at step 450: 0.348410\n",
      "Minibatch accuracy: 93.8%\n",
      "Validation accuracy: 80.8%\n",
      "Minibatch loss at step 500: 0.767962\n",
      "Minibatch accuracy: 68.8%\n",
      "Validation accuracy: 80.7%\n",
      "Minibatch loss at step 550: 0.732348\n",
      "Minibatch accuracy: 81.2%\n",
      "Validation accuracy: 81.2%\n",
      "Minibatch loss at step 600: 0.835299\n",
      "Minibatch accuracy: 75.0%\n",
      "Validation accuracy: 81.4%\n",
      "Minibatch loss at step 650: 0.474488\n",
      "Minibatch accuracy: 81.2%\n",
      "Validation accuracy: 81.1%\n",
      "Minibatch loss at step 700: 0.521303\n",
      "Minibatch accuracy: 81.2%\n",
      "Validation accuracy: 82.5%\n",
      "Minibatch loss at step 750: 0.865041\n",
      "Minibatch accuracy: 68.8%\n",
      "Validation accuracy: 82.3%\n",
      "Minibatch loss at step 800: 0.358007\n",
      "Minibatch accuracy: 87.5%\n",
      "Validation accuracy: 83.0%\n",
      "Minibatch loss at step 850: 0.886599\n",
      "Minibatch accuracy: 75.0%\n",
      "Validation accuracy: 82.7%\n",
      "Minibatch loss at step 900: 0.331096\n",
      "Minibatch accuracy: 87.5%\n",
      "Validation accuracy: 82.5%\n",
      "Minibatch loss at step 950: 0.514197\n",
      "Minibatch accuracy: 81.2%\n",
      "Validation accuracy: 82.9%\n",
      "Minibatch loss at step 1000: 0.484350\n",
      "Minibatch accuracy: 87.5%\n",
      "Validation accuracy: 83.3%\n",
      "Test accuracy: 89.7%\n"
     ]
    }
   ],
   "source": [
    "num_steps = 1001\n",
    "\n",
    "with tf.Session(graph=graph) as session:\n",
    "  tf.global_variables_initializer().run()\n",
    "  print('Initialized')\n",
    "  for step in range(num_steps):\n",
    "    offset = (step * batch_size) % (train_labels.shape[0] - batch_size)\n",
    "    batch_data = train_dataset[offset:(offset + batch_size), :, :, :]\n",
    "    batch_labels = train_labels[offset:(offset + batch_size), :]\n",
    "    feed_dict = {tf_train_dataset : batch_data, tf_train_labels : batch_labels}\n",
    "    _, l, predictions = session.run(\n",
    "      [optimizer, loss, train_prediction], feed_dict=feed_dict)\n",
    "    if (step % 50 == 0):\n",
    "      print('Minibatch loss at step %d: %f' % (step, l))\n",
    "      print('Minibatch accuracy: %.1f%%' % accuracy(predictions, batch_labels))\n",
    "      print('Validation accuracy: %.1f%%' % accuracy(\n",
    "        valid_prediction.eval(), valid_labels))\n",
    "  print('Test accuracy: %.1f%%' % accuracy(test_prediction.eval(), test_labels))"
   ]
  },
  {
   "cell_type": "markdown",
   "metadata": {
    "colab_type": "text",
    "deletable": true,
    "editable": true,
    "id": "klf21gpbAgb-"
   },
   "source": [
    "---\n",
    "Problem 2\n",
    "---------\n",
    "\n",
    "Try to get the best performance you can using a convolutional net. Look for example at the classic [LeNet5](http://yann.lecun.com/exdb/lenet/) architecture, adding Dropout, and/or adding learning rate decay.\n",
    "\n",
    "---"
   ]
  },
  {
   "cell_type": "code",
   "execution_count": 58,
   "metadata": {
    "collapsed": false
   },
   "outputs": [],
   "source": [
    "from math import ceil, pow\n",
    "\n",
    "batch_size = 16\n",
    "num_hidden = 128\n",
    "# patch_size = {'conv1':5, 'pool1':2, 'conv2':5, 'pool2':2, 'conv3':4, 'pool3':2}\n",
    "# depth = {'conv1':16, 'conv2':36, 'conv3':120}\n",
    "# stride = {'conv1':1, 'pool1':2, 'conv2':1, 'pool2':2, 'conv3':1, 'pool3':2}\n",
    "# padding = {'conv1':'VALID', 'pool1':'SAME', 'conv2':'VALID', 'pool2':'SAME', 'conv3':'VALID', 'pool3':'SAME'}\n",
    "patch_size = {'conv1':5, 'pool1':2, 'conv2':5, 'pool2':2}\n",
    "depth = {'conv1':16, 'conv2':36}\n",
    "stride = {'conv1':1, 'pool1':2, 'conv2':1, 'pool2':2}\n",
    "padding = {'conv1':'SAME', 'pool1':'SAME', 'conv2':'SAME', 'pool2':'SAME'}\n",
    "dropout_keep_prob = 0.5\n",
    "starter_learning_rate = 0.1\n",
    "\n",
    "def calc_output_size(in_size, patch, stride, padding):\n",
    "    if padding == 'VALID':\n",
    "        return int(ceil((in_size - patch + 1) / stride))\n",
    "    else:\n",
    "        return int(ceil(in_size / stride))\n",
    "    \n",
    "def init_weight_stddev(fan_in_size):\n",
    "    return np.sqrt(2.0/float(fan_in_size))\n",
    "\n",
    "graph = tf.Graph()\n",
    "\n",
    "with graph.as_default():\n",
    "\n",
    "  # Input data.\n",
    "  dataset = tf.placeholder(\n",
    "    tf.float32, shape=[None, image_size, image_size, num_channels], name=\"x\")\n",
    "  labels = tf.placeholder(tf.float32, shape=[None, num_labels], name=\"labels\")\n",
    "  \n",
    "  \n",
    "  def init_conv_weight(patch_size, in_depth, out_depth):\n",
    "      return tf.Variable(tf.truncated_normal(\n",
    "      [patch_size, patch_size, in_depth, out_depth], stddev=init_weight_stddev(patch_size*patch_size*in_depth)), name=\"W\")\n",
    "    \n",
    "  def init_full_weight(in_size, out_size):\n",
    "    return tf.Variable(tf.truncated_normal(\n",
    "      [in_size, out_size], stddev=init_weight_stddev(in_size)), name=\"W\")\n",
    "  \n",
    "\n",
    "\n",
    "  def calc_conv_layer(in_data, conv_stride, pool_stride, conv_padding, pool_padding, conv_patch_size, pool_patch_size, depth, name=\"conv\"):\n",
    "    with tf.name_scope(name):\n",
    "        shape = in_data.get_shape().as_list()\n",
    "        weights = init_conv_weight(conv_patch_size, shape[3], depth)\n",
    "        biases = tf.Variable(tf.zeros([depth]), name=\"B\")\n",
    "        conv = tf.nn.conv2d(in_data, weights, [1, conv_stride, conv_stride, 1], padding=conv_padding)\n",
    "        conv_HW = calc_output_size(shape[1], conv_patch_size, conv_stride, conv_padding)\n",
    "        if conv_HW >= pool_patch_size:\n",
    "            conv = tf.nn.max_pool(conv, [1, pool_patch_size, pool_patch_size, 1], [1, pool_stride, pool_stride, 1], padding=pool_padding)\n",
    "        return tf.nn.relu(conv + biases)\n",
    "\n",
    "  def calc_full_layer(in_data, out_size, keep_prob, use_relu, name=\"fc\"):\n",
    "    with tf.name_scope(name):\n",
    "        shape = in_data.get_shape().as_list()\n",
    "        weights = init_full_weight(shape[1], out_size)\n",
    "        biases = tf.Variable(tf.zeros([out_size]), name=\"B\")\n",
    "        result = tf.matmul(in_data, weights) + biases\n",
    "        if use_relu:\n",
    "            result = tf.nn.relu(result)\n",
    "        return tf.nn.dropout(result, keep_prob)\n",
    "    \n",
    "   \n",
    "    # Model.\n",
    "  def model(data, keep_prob = 1):\n",
    "    conv_layer1 = calc_conv_layer(data,\n",
    "        stride['conv1'],stride['pool1'],padding['conv1'],padding['pool1'],patch_size['conv1'],patch_size['pool1'],depth['conv1'],\"conv1\")\n",
    "    conv_layer2 = calc_conv_layer(conv_layer1,\n",
    "        stride['conv2'],stride['pool2'],padding['conv2'],padding['pool2'],patch_size['conv2'],patch_size['pool2'],depth['conv2'],\"conv2\")\n",
    "#     conv_layer3 = calc_conv_layer(conv_layer2,\n",
    "#         stride['conv3'],stride['pool3'],padding['conv3'],padding['pool3'],patch_size['conv3'],patch_size['pool3'],depth['conv3'],\"conv3\")\n",
    "    shape = conv_layer2.get_shape().as_list()\n",
    "    # reshape cannot accept shape[0] whose value is None, that's why tf.shape(conv_layer3)[0] is used instead\n",
    "    reshape = tf.reshape(conv_layer2, [tf.shape(conv_layer2)[0], shape[1] * shape[2] * shape[3]])\n",
    "    hidden = calc_full_layer(reshape, num_hidden, keep_prob, True, \"fc1\")\n",
    "    return calc_full_layer(hidden, num_labels, 1, False, \"fc2\")\n",
    "    \n",
    "\n",
    "  global_step = tf.Variable(0, trainable=False)\n",
    "\n",
    "  # Training computation.\n",
    "  logits = model(dataset, dropout_keep_prob)\n",
    "\n",
    "  with tf.name_scope(\"loss\"):\n",
    "      loss = tf.reduce_mean(\n",
    "        tf.nn.softmax_cross_entropy_with_logits(labels=labels, logits=logits))\n",
    "    \n",
    "  learning_rate = tf.train.exponential_decay(starter_learning_rate, global_step,\n",
    "                                           100, 0.96, staircase=True)\n",
    "  \n",
    "  with tf.name_scope(\"optimizer\"):\n",
    "  # Optimizer.\n",
    "      optimizer = tf.train.GradientDescentOptimizer(learning_rate).minimize(loss, global_step=global_step)\n",
    "  \n",
    "  # Predictions for the training, validation, and test data.\n",
    "  prediction = tf.nn.softmax(logits)\n"
   ]
  },
  {
   "cell_type": "code",
   "execution_count": 59,
   "metadata": {
    "collapsed": true
   },
   "outputs": [],
   "source": [
    "writer = tf.summary.FileWriter(\"/root/logs/conv/2\")\n",
    "writer.add_graph(graph)"
   ]
  },
  {
   "cell_type": "code",
   "execution_count": 60,
   "metadata": {
    "collapsed": false
   },
   "outputs": [
    {
     "name": "stdout",
     "output_type": "stream",
     "text": [
      "Initialized\n",
      "Minibatch loss at step 0: 2.578190\n",
      "Minibatch accuracy: 12.5%\n",
      "Validation accuracy: 11.7%\n",
      "Minibatch loss at step 50: 1.089813\n",
      "Minibatch accuracy: 75.0%\n",
      "Validation accuracy: 58.0%\n",
      "Minibatch loss at step 100: 1.279646\n",
      "Minibatch accuracy: 62.5%\n",
      "Validation accuracy: 71.1%\n",
      "Minibatch loss at step 150: 0.923415\n",
      "Minibatch accuracy: 68.8%\n",
      "Validation accuracy: 77.7%\n",
      "Minibatch loss at step 200: 0.657699\n",
      "Minibatch accuracy: 75.0%\n",
      "Validation accuracy: 76.5%\n",
      "Minibatch loss at step 250: 0.912244\n",
      "Minibatch accuracy: 81.2%\n",
      "Validation accuracy: 79.1%\n",
      "Minibatch loss at step 300: 0.473691\n",
      "Minibatch accuracy: 75.0%\n",
      "Validation accuracy: 79.4%\n",
      "Minibatch loss at step 350: 0.119682\n",
      "Minibatch accuracy: 93.8%\n",
      "Validation accuracy: 80.0%\n",
      "Minibatch loss at step 400: 0.684719\n",
      "Minibatch accuracy: 75.0%\n",
      "Validation accuracy: 79.2%\n",
      "Minibatch loss at step 450: 0.322577\n",
      "Minibatch accuracy: 93.8%\n",
      "Validation accuracy: 81.3%\n",
      "Minibatch loss at step 500: 0.631913\n",
      "Minibatch accuracy: 87.5%\n",
      "Validation accuracy: 81.6%\n",
      "Minibatch loss at step 550: 0.294598\n",
      "Minibatch accuracy: 93.8%\n",
      "Validation accuracy: 82.2%\n",
      "Minibatch loss at step 600: 0.719615\n",
      "Minibatch accuracy: 75.0%\n",
      "Validation accuracy: 81.6%\n",
      "Minibatch loss at step 650: 0.609602\n",
      "Minibatch accuracy: 81.2%\n",
      "Validation accuracy: 83.0%\n",
      "Minibatch loss at step 700: 0.437425\n",
      "Minibatch accuracy: 81.2%\n",
      "Validation accuracy: 82.4%\n",
      "Minibatch loss at step 750: 0.606858\n",
      "Minibatch accuracy: 75.0%\n",
      "Validation accuracy: 83.1%\n",
      "Minibatch loss at step 800: 0.735508\n",
      "Minibatch accuracy: 81.2%\n",
      "Validation accuracy: 83.3%\n",
      "Minibatch loss at step 850: 0.682023\n",
      "Minibatch accuracy: 81.2%\n",
      "Validation accuracy: 84.1%\n",
      "Minibatch loss at step 900: 0.472862\n",
      "Minibatch accuracy: 87.5%\n",
      "Validation accuracy: 84.2%\n",
      "Minibatch loss at step 950: 0.376628\n",
      "Minibatch accuracy: 87.5%\n",
      "Validation accuracy: 84.3%\n",
      "Minibatch loss at step 1000: 0.409065\n",
      "Minibatch accuracy: 87.5%\n",
      "Validation accuracy: 84.3%\n",
      "Test accuracy: 90.5%\n"
     ]
    }
   ],
   "source": [
    "num_steps = 1001\n",
    "\n",
    "with tf.Session(graph=graph) as session:\n",
    "  tf.global_variables_initializer().run()\n",
    "  print('Initialized')\n",
    "  for step in range(num_steps):\n",
    "    offset = (step * batch_size) % (train_labels.shape[0] - batch_size)\n",
    "    batch_data = train_dataset[offset:(offset + batch_size), :, :, :]\n",
    "    batch_labels = train_labels[offset:(offset + batch_size), :]\n",
    "    train_feed_dict = {dataset : batch_data, labels : batch_labels}\n",
    "    _, l, predictions = session.run(\n",
    "      [optimizer, loss, prediction], feed_dict=train_feed_dict)\n",
    "    if (step % 50 == 0):\n",
    "      print('Minibatch loss at step %d: %f' % (step, l))\n",
    "      print('Minibatch accuracy: %.1f%%' % accuracy(predictions, batch_labels))\n",
    "      valid_feed_dict = {dataset : valid_dataset, labels : valid_labels}\n",
    "      valid_prediction = session.run(prediction, feed_dict = valid_feed_dict)\n",
    "      print('Validation accuracy: %.1f%%' % accuracy(valid_prediction, valid_labels))\n",
    "  test_feed_dict = {dataset : test_dataset, labels : test_labels}\n",
    "  test_prediction = session.run(prediction, feed_dict = test_feed_dict)\n",
    "  print('Test accuracy: %.1f%%' % accuracy(test_prediction, test_labels))"
   ]
  },
  {
   "cell_type": "code",
   "execution_count": null,
   "metadata": {
    "collapsed": true
   },
   "outputs": [],
   "source": []
  }
 ],
 "metadata": {
  "colab": {
   "default_view": {},
   "name": "4_convolutions.ipynb",
   "provenance": [],
   "version": "0.3.2",
   "views": {}
  },
  "kernelspec": {
   "display_name": "Python 2",
   "language": "python",
   "name": "python2"
  },
  "language_info": {
   "codemirror_mode": {
    "name": "ipython",
    "version": 2
   },
   "file_extension": ".py",
   "mimetype": "text/x-python",
   "name": "python",
   "nbconvert_exporter": "python",
   "pygments_lexer": "ipython2",
   "version": "2.7.6"
  }
 },
 "nbformat": 4,
 "nbformat_minor": 0
}
